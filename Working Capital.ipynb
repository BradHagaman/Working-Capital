{
 "cells": [
  {
   "cell_type": "code",
   "execution_count": null,
   "metadata": {},
   "outputs": [],
   "source": [
    "from quantopian.pipeline import Pipeline, CustomFactor\n",
    "from quantopian.pipeline.data import morningstar\n",
    "from quantopian.research import run_pipeline\n",
    "from quantopian.pipeline.data.builtin import USEquityPricing\n",
    "import numpy\n",
    "\n",
    "def make_pipeline():\n",
    "    price = USEquityPricing.close.latest\n",
    "    working_capital_per_share = morningstar.valuation_ratios.working_capital_per_share.latest\n",
    "    market_cap = morningstar.valuation.market_cap.latest\n",
    "    difference = working_capital_per_share - price\n",
    "    net_profit_margin = morningstar.operation_ratios.net_margin.latest\n",
    "    dividend_yield = morningstar.valuation_ratios.forward_dividend_yield.latest\n",
    "    pe_ratio = morningstar.valuation_ratios.pe_ratio.latest\n",
    "    debt_to_equity_ratio = morningstar.operation_ratios.total_debt_equity_ratio.latest\n",
    "\n",
    "    \n",
    "    #define screeners\n",
    "    undervalued_filter = (working_capital_per_share)>price\n",
    "    net_profit_margin_filter = net_profit_margin > .1\n",
    "    \n",
    "       \n",
    "    #output designation\n",
    "    return Pipeline(\n",
    "        columns = {\n",
    "            'Market Cap': market_cap,\n",
    "            'Working Capital Per Share': working_capital_per_share,\n",
    "            'Price': price,\n",
    "            'Difference': difference,\n",
    "            'Profit Margin': net_profit_margin,\n",
    "            'Dividend Yield': dividend_yield,\n",
    "            'P/E Ratio': pe_ratio,\n",
    "            'Debt/Equity': debt_to_equity_ratio\n",
    "        },screen= (undervalued_filter & net_profit_margin_filter)\n",
    "\n",
    "    )\n",
    "\n",
    "result = run_pipeline(make_pipeline(),'2020-09-19','2020-09-19')\n",
    "\n",
    "result\n"
   ]
  },
  {
   "cell_type": "code",
   "execution_count": null,
   "metadata": {},
   "outputs": [],
   "source": []
  }
 ],
 "metadata": {
  "kernelspec": {
   "display_name": "Python 3.5",
   "language": "python",
   "name": "py35"
  },
  "language_info": {
   "codemirror_mode": {
    "name": "ipython",
    "version": 3
   },
   "file_extension": ".py",
   "mimetype": "text/x-python",
   "name": "python",
   "nbconvert_exporter": "python",
   "pygments_lexer": "ipython3",
   "version": "3.5.10"
  }
 },
 "nbformat": 4,
 "nbformat_minor": 2
}
